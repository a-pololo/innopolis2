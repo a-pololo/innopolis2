{
  "nbformat": 4,
  "nbformat_minor": 0,
  "metadata": {
    "colab": {
      "provenance": [],
      "authorship_tag": "ABX9TyMzGZhh22zJME8Y39mwV3em",
      "include_colab_link": true
    },
    "kernelspec": {
      "name": "python3",
      "display_name": "Python 3"
    },
    "language_info": {
      "name": "python"
    }
  },
  "cells": [
    {
      "cell_type": "markdown",
      "metadata": {
        "id": "view-in-github",
        "colab_type": "text"
      },
      "source": [
        "<a href=\"https://colab.research.google.com/github/a-pololo/innopolis2/blob/main/Untitled5.ipynb\" target=\"_parent\"><img src=\"https://colab.research.google.com/assets/colab-badge.svg\" alt=\"Open In Colab\"/></a>"
      ]
    },
    {
      "cell_type": "code",
      "execution_count": null,
      "metadata": {
        "id": "mYDZpaKnECv6"
      },
      "outputs": [],
      "source": [
        "import numpy as np\n",
        "n = np.empty((5,4))\n",
        "print(n)\n",
        "f=[0, 1]\n",
        "\n",
        "\n",
        "for i in range(5):\n",
        "  for j in range(4):\n",
        "    n[i][j]=7\n",
        "    print(n[i][j])"
      ]
    }
  ]
}